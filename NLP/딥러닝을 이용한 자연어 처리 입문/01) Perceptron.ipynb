{
 "cells": [
  {
   "cell_type": "markdown",
   "metadata": {},
   "source": [
    "# Perceptron\n",
    "* 퍼셉트론은 단층/다층으로 이루어짐\n",
    "* 단층 퍼셉트론은 값을 보내는 단계와 받아서 출력하는 두 단계로만 이루어지며 각 단계를 layer라고 부른다.\n",
    "* 초기 형태의 인공 신경망인 단층 퍼셉트론은 XOR 게이트조차 구현할 수 없는 인공 신경망이라는 지적을 받았다.\n",
    "* 단층 퍼셉트론은 *직선 하나로 두 영역을 나눌 수 있는 문제에 대해서만 구현 가능하기 때문*"
   ]
  },
  {
   "cell_type": "code",
   "execution_count": 1,
   "metadata": {},
   "outputs": [
    {
     "name": "stdout",
     "output_type": "stream",
     "text": [
      "0 0 0 1\n"
     ]
    }
   ],
   "source": [
    "# AND 게이트를 위한 매개변수 값을 가진 single-layer perceptron\n",
    "def AND_gate(x1, x2):\n",
    "    w1 = 0.5\n",
    "    w2 = 0.5\n",
    "    b = -0.7\n",
    "    result = x1*w1 + x2*w2 + b\n",
    "    if result <= 0:\n",
    "        return 0\n",
    "    else:\n",
    "        return 1\n",
    "\n",
    "print(AND_gate(0, 0), AND_gate(0, 1), AND_gate(1, 0), AND_gate(1, 1))"
   ]
  },
  {
   "cell_type": "code",
   "execution_count": 2,
   "metadata": {},
   "outputs": [
    {
     "name": "stdout",
     "output_type": "stream",
     "text": [
      "1 1 1 0\n"
     ]
    }
   ],
   "source": [
    "# NAND 게이트를 위한 매개변수 값을 가진 single-layer perceptron\n",
    "def NAND_gate(x1, x2):\n",
    "    w1 = -0.5\n",
    "    w2 = -0.5\n",
    "    b = 0.7\n",
    "    result = x1*w1 + x2*w2 + b\n",
    "    if result <= 0:\n",
    "        return 0\n",
    "    else:\n",
    "        return 1\n",
    "\n",
    "print(NAND_gate(0, 0), NAND_gate(0, 1), NAND_gate(1, 0), NAND_gate(1, 1))"
   ]
  },
  {
   "cell_type": "code",
   "execution_count": 4,
   "metadata": {},
   "outputs": [
    {
     "name": "stdout",
     "output_type": "stream",
     "text": [
      "0 1 1 1\n"
     ]
    }
   ],
   "source": [
    "# OR 게이트를 위한 매개변수 값을 가진 single-layer perceptron\n",
    "def OR_gate(x1, x2):\n",
    "    w1 = 0.6\n",
    "    w2 = 0.6\n",
    "    b = -0.5\n",
    "    result = x1*w1 + x2*w2 + b\n",
    "    if result <= 0:\n",
    "        return 0\n",
    "    else:\n",
    "        return 1\n",
    "\n",
    "print(OR_gate(0, 0), OR_gate(0, 1), OR_gate(1, 0), OR_gate(1, 1))"
   ]
  },
  {
   "cell_type": "markdown",
   "metadata": {},
   "source": [
    "* XOR 게이트는 기존의 AND, NAND, OR 게이트를 조합하면 구현가능하며, 이는 퍼셉트론 관점에서 *층을 더 쌓는 것* 을 의미한다.\n",
    "* 중간에 추가한 층을 *은닉층* 이라 한다.\n",
    "* 다층 퍼셉트론을 MultiLayer Perceptron 즉 *MLP* 라고 부른다.\n",
    "<center><img src=\"https://wikidocs.net/images/page/24958/perceptron_4image.jpg\"></center>"
   ]
  },
  {
   "cell_type": "code",
   "execution_count": 7,
   "metadata": {},
   "outputs": [
    {
     "name": "stdout",
     "output_type": "stream",
     "text": [
      "0 1 1 0\n"
     ]
    }
   ],
   "source": [
    "def XOR_gate(x1, x2):\n",
    "    y1 = NAND_gate(x1, x2)\n",
    "    y2 = OR_gate(x1, x2)\n",
    "    \n",
    "    result = AND_gate(y1, y2)\n",
    "    if result <= 0:\n",
    "        return 0\n",
    "    else:\n",
    "        return 1\n",
    "\n",
    "print(XOR_gate(0, 0), XOR_gate(0, 1), XOR_gate(1, 0), XOR_gate(1, 1))"
   ]
  },
  {
   "cell_type": "markdown",
   "metadata": {},
   "source": [
    "* 은닉층이 2개 이상인 신경망을 *심층 신경망 (Deep Neural Network, DNN)* 이라고 한다.\n",
    "* 지금까지 OR, AND, XOR 게이트 등 정답을 출력할 때까지 수동으로 찾았던 가중치를 기계가 스스로 찾아내도록 자동화 시키는 것을 training, learning 단계라고 부른다."
   ]
  }
 ],
 "metadata": {
  "interpreter": {
   "hash": "d19ecedba7a4346218bc850fba24db5843829c5365a33601314f7fb752cf3758"
  },
  "kernelspec": {
   "display_name": "Python 3.8.0 64-bit ('envname': conda)",
   "language": "python",
   "name": "python3"
  },
  "language_info": {
   "codemirror_mode": {
    "name": "ipython",
    "version": 3
   },
   "file_extension": ".py",
   "mimetype": "text/x-python",
   "name": "python",
   "nbconvert_exporter": "python",
   "pygments_lexer": "ipython3",
   "version": "3.8.8"
  },
  "orig_nbformat": 4
 },
 "nbformat": 4,
 "nbformat_minor": 2
}
