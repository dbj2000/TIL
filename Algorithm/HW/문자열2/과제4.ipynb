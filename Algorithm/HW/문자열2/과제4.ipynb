{
 "cells": [
  {
   "cell_type": "markdown",
   "metadata": {},
   "source": [
    "# 문제\n",
    "복수개의 숫자를 입력받고, 입력받은 모든 수의 합을 출력하시오.\n",
    "* input() 함수를 이용해서 복수개의 숫자를 입력받는다.\n",
    "* reduce() 함수를 사용하시오\n",
    "* 결과확인\n",
    "    * 입력: 1 2 4 7\n",
    "    * 출력: 8\n"
   ]
  },
  {
   "cell_type": "code",
   "execution_count": 7,
   "metadata": {},
   "outputs": [
    {
     "data": {
      "text/plain": [
       "8"
      ]
     },
     "execution_count": 7,
     "metadata": {},
     "output_type": "execute_result"
    }
   ],
   "source": [
    "from functools import reduce\n",
    "\n",
    "lt1 = \"1 2 4 7\".split()\n",
    "lt2 = list(map(int, lt1))\n",
    "lt3 = list(filter(lambda x: x%2 != 0, lt2))\n",
    "reduce(lambda x,y: x+y, lt3)"
   ]
  },
  {
   "cell_type": "code",
   "execution_count": null,
   "metadata": {},
   "outputs": [],
   "source": []
  }
 ],
 "metadata": {
  "interpreter": {
   "hash": "71fc80c9af28b0421c6bdfbc3bfd5ed07af96b622e5cf926f40ac8162b843136"
  },
  "kernelspec": {
   "display_name": "Python 3.8.8 64-bit ('base': conda)",
   "language": "python",
   "name": "python3"
  },
  "language_info": {
   "codemirror_mode": {
    "name": "ipython",
    "version": 3
   },
   "file_extension": ".py",
   "mimetype": "text/x-python",
   "name": "python",
   "nbconvert_exporter": "python",
   "pygments_lexer": "ipython3",
   "version": "3.8.8"
  },
  "orig_nbformat": 4
 },
 "nbformat": 4,
 "nbformat_minor": 2
}
