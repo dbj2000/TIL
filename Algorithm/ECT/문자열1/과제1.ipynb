{
 "cells": [
  {
   "cell_type": "code",
   "execution_count": 6,
   "metadata": {},
   "outputs": [
    {
     "name": "stdout",
     "output_type": "stream",
     "text": [
      "['H', 'e', 'l', 'l', 'o', 'P', 'y', 't', 'h', 'o', 'n', 'W', 'o', 'r', 'l', 'd']\n"
     ]
    }
   ],
   "source": [
    "sentence = \"Hello Python World  \"\n",
    "lt1 = [s for s in sentence if (s!=\" \" and s!=\"\\t\")]\n",
    "print(lt1)"
   ]
  },
  {
   "cell_type": "code",
   "execution_count": 16,
   "metadata": {},
   "outputs": [
    {
     "name": "stdout",
     "output_type": "stream",
     "text": [
      "['H', 'P', 'W', 'd', 'e', 'h', 'l', 'l', 'l', 'n', 'o', 'o', 'o', 'r', 't', 'y']\n"
     ]
    }
   ],
   "source": [
    "lt2 = []\n",
    "for char in lt1:\n",
    "    check = False\n",
    "    for i in range(len(lt2)):\n",
    "        if char<lt2[i]:\n",
    "            lt2.insert(i, char)\n",
    "            check = True\n",
    "            break\n",
    "    if check == False:\n",
    "        lt2.append(char)\n",
    "print(lt2)\n"
   ]
  },
  {
   "cell_type": "code",
   "execution_count": 19,
   "metadata": {},
   "outputs": [
    {
     "name": "stdout",
     "output_type": "stream",
     "text": [
      "HPWdehlllnooorty\n"
     ]
    }
   ],
   "source": [
    "result = ''.join(lt2)\n",
    "print(result)"
   ]
  },
  {
   "cell_type": "code",
   "execution_count": null,
   "metadata": {},
   "outputs": [],
   "source": []
  }
 ],
 "metadata": {
  "interpreter": {
   "hash": "71fc80c9af28b0421c6bdfbc3bfd5ed07af96b622e5cf926f40ac8162b843136"
  },
  "kernelspec": {
   "display_name": "Python 3.8.8 64-bit ('base': conda)",
   "language": "python",
   "name": "python3"
  },
  "language_info": {
   "codemirror_mode": {
    "name": "ipython",
    "version": 3
   },
   "file_extension": ".py",
   "mimetype": "text/x-python",
   "name": "python",
   "nbconvert_exporter": "python",
   "pygments_lexer": "ipython3",
   "version": "3.8.8"
  },
  "orig_nbformat": 4
 },
 "nbformat": 4,
 "nbformat_minor": 2
}
