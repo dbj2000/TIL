{
 "cells": [
  {
   "cell_type": "code",
   "execution_count": 2,
   "metadata": {},
   "outputs": [
    {
     "name": "stdout",
     "output_type": "stream",
     "text": [
      "['append_List', 'print_List', 'delete_List', 'rename_List']\n"
     ]
    }
   ],
   "source": [
    "menu1 = ['Append List', 'Print List', 'Delete List', 'Rename List']\n",
    "\n",
    "def make_function(menu_list):\n",
    "    result = []\n",
    "    for menu in menu_list:\n",
    "        menu = menu[0].lower()+menu[1:]\n",
    "        menu = menu.replace(' ', '_')\n",
    "        result.append(menu)\n",
    "    return result\n",
    "\n",
    "print(make_function(menu1))"
   ]
  },
  {
   "cell_type": "code",
   "execution_count": null,
   "metadata": {},
   "outputs": [],
   "source": []
  }
 ],
 "metadata": {
  "interpreter": {
   "hash": "71fc80c9af28b0421c6bdfbc3bfd5ed07af96b622e5cf926f40ac8162b843136"
  },
  "kernelspec": {
   "display_name": "Python 3.8.8 64-bit ('base': conda)",
   "language": "python",
   "name": "python3"
  },
  "language_info": {
   "codemirror_mode": {
    "name": "ipython",
    "version": 3
   },
   "file_extension": ".py",
   "mimetype": "text/x-python",
   "name": "python",
   "nbconvert_exporter": "python",
   "pygments_lexer": "ipython3",
   "version": "3.8.8"
  },
  "orig_nbformat": 4
 },
 "nbformat": 4,
 "nbformat_minor": 2
}
