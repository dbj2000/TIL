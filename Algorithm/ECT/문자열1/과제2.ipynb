{
 "cells": [
  {
   "cell_type": "code",
   "execution_count": 1,
   "metadata": {},
   "outputs": [],
   "source": [
    "def mycount(string, search, start = -1, end = -1):\n",
    "    cnt = 0\n",
    "    pos = 0\n",
    "    \n",
    "    # start, end인자를 전달 받지 않았을 때\n",
    "    if start == -1 and end == -1:\n",
    "        while True:\n",
    "            pos = string.find(search, pos)\n",
    "            \n",
    "            if pos == -1:\n",
    "                break\n",
    "            \n",
    "            cnt+=1\n",
    "            pos += 1\n",
    "            \n",
    "    # start 인자만 전달받았을 때\n",
    "    elif start != -1 and end == -1:\n",
    "        while True:\n",
    "            pos = string.find(search, start + pos)\n",
    "            if pos == -1:\n",
    "                break\n",
    " \n",
    "            cnt += 1\n",
    "            pos += 1\n",
    " \n",
    "    # start, end 인자 모두 전달 받았을 때\n",
    "    else:\n",
    "        while True:\n",
    "            pos = string.find(search, start + pos, end)\n",
    " \n",
    "            if pos == -1:\n",
    "                break\n",
    " \n",
    "            cnt += 1\n",
    "            pos += 1\n",
    "            \n",
    "    return cnt"
   ]
  },
  {
   "cell_type": "code",
   "execution_count": 3,
   "metadata": {},
   "outputs": [
    {
     "data": {
      "text/plain": [
       "2"
      ]
     },
     "execution_count": 3,
     "metadata": {},
     "output_type": "execute_result"
    }
   ],
   "source": [
    "fruit = 'This banana is bigger than that banana'\n",
    "\n",
    "fruit.count('banana')"
   ]
  },
  {
   "cell_type": "code",
   "execution_count": 4,
   "metadata": {},
   "outputs": [
    {
     "data": {
      "text/plain": [
       "2"
      ]
     },
     "execution_count": 4,
     "metadata": {},
     "output_type": "execute_result"
    }
   ],
   "source": [
    "mycount(fruit, 'banana')"
   ]
  },
  {
   "cell_type": "code",
   "execution_count": 5,
   "metadata": {},
   "outputs": [
    {
     "data": {
      "text/plain": [
       "'00000hello'"
      ]
     },
     "execution_count": 5,
     "metadata": {},
     "output_type": "execute_result"
    }
   ],
   "source": [
    "string = \"hello\"\n",
    "string.zfill(10)"
   ]
  },
  {
   "cell_type": "code",
   "execution_count": 6,
   "metadata": {},
   "outputs": [],
   "source": [
    "def myzfill(string, length):\n",
    "    if len(string)>= length:\n",
    "        return string\n",
    "    else:\n",
    "        return '0'*(length-len(string))+string\n"
   ]
  },
  {
   "cell_type": "code",
   "execution_count": 7,
   "metadata": {},
   "outputs": [
    {
     "data": {
      "text/plain": [
       "'00000hello'"
      ]
     },
     "execution_count": 7,
     "metadata": {},
     "output_type": "execute_result"
    }
   ],
   "source": [
    "myzfill(string, 10)"
   ]
  },
  {
   "cell_type": "code",
   "execution_count": 8,
   "metadata": {},
   "outputs": [],
   "source": [
    "def mystrip(string):\n",
    "    if string[0]==' ':\n",
    "        string = string[1:]\n",
    "    if string[-1]==' ':\n",
    "        string = string[:-1]\n",
    "    return string"
   ]
  },
  {
   "cell_type": "code",
   "execution_count": 10,
   "metadata": {},
   "outputs": [
    {
     "data": {
      "text/plain": [
       "'hello'"
      ]
     },
     "execution_count": 10,
     "metadata": {},
     "output_type": "execute_result"
    }
   ],
   "source": [
    "mystrip(\" hello\")"
   ]
  },
  {
   "cell_type": "code",
   "execution_count": null,
   "metadata": {},
   "outputs": [],
   "source": []
  }
 ],
 "metadata": {
  "interpreter": {
   "hash": "71fc80c9af28b0421c6bdfbc3bfd5ed07af96b622e5cf926f40ac8162b843136"
  },
  "kernelspec": {
   "display_name": "Python 3.8.8 64-bit ('base': conda)",
   "language": "python",
   "name": "python3"
  },
  "language_info": {
   "codemirror_mode": {
    "name": "ipython",
    "version": 3
   },
   "file_extension": ".py",
   "mimetype": "text/x-python",
   "name": "python",
   "nbconvert_exporter": "python",
   "pygments_lexer": "ipython3",
   "version": "3.8.8"
  },
  "orig_nbformat": 4
 },
 "nbformat": 4,
 "nbformat_minor": 2
}
