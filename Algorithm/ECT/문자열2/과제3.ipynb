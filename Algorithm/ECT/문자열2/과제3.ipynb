{
 "cells": [
  {
   "cell_type": "markdown",
   "metadata": {},
   "source": [
    "# 문제\n",
    "복수개의 숫자를 입력받고, 입력받은 모든 수의 부호를 거꾸로 하시오.\n",
    "* input() 함수를 이용해서 복수개의 숫자를 입력받는다.(숫자사이에 , 입력)\n",
    "* 결과확인\n",
    "    * 입력: -3,1,3,-2\n",
    "    * 출력: 3,-1,-3,2\n",
    "* 풀이방법\n",
    "    * 방법1: lambda 함수를 사용한다.\n",
    "    * 방법2: lambda 함수를 사용하지 않는다."
   ]
  },
  {
   "cell_type": "code",
   "execution_count": 7,
   "metadata": {},
   "outputs": [
    {
     "name": "stdout",
     "output_type": "stream",
     "text": [
      "3,-1,-3,2\n"
     ]
    }
   ],
   "source": [
    "# 방법1: lambda 함수 사용\n",
    "lt1 = \"-3,1,3,-2\".split(',')\n",
    "lt2 = list(map(int, lt1))\n",
    "lt3 = list(map(str, map(lambda x: -x, lt2)))\n",
    "print(\",\".join(lt3))"
   ]
  },
  {
   "cell_type": "code",
   "execution_count": 8,
   "metadata": {},
   "outputs": [
    {
     "name": "stdout",
     "output_type": "stream",
     "text": [
      "3,-1,-3,2\n"
     ]
    }
   ],
   "source": [
    "# 방법1: lambda 함수 사용 x\n",
    "lt1 = \"-3,1,3,-2\".split(',')\n",
    "lt2 = list(map(int, lt1))\n",
    "lt3 = [str(-x) for x in lt2]\n",
    "print(\",\".join(lt3))"
   ]
  },
  {
   "cell_type": "code",
   "execution_count": null,
   "metadata": {},
   "outputs": [],
   "source": []
  }
 ],
 "metadata": {
  "interpreter": {
   "hash": "71fc80c9af28b0421c6bdfbc3bfd5ed07af96b622e5cf926f40ac8162b843136"
  },
  "kernelspec": {
   "display_name": "Python 3.8.8 64-bit ('base': conda)",
   "language": "python",
   "name": "python3"
  },
  "language_info": {
   "codemirror_mode": {
    "name": "ipython",
    "version": 3
   },
   "file_extension": ".py",
   "mimetype": "text/x-python",
   "name": "python",
   "nbconvert_exporter": "python",
   "pygments_lexer": "ipython3",
   "version": "3.8.8"
  },
  "orig_nbformat": 4
 },
 "nbformat": 4,
 "nbformat_minor": 2
}
