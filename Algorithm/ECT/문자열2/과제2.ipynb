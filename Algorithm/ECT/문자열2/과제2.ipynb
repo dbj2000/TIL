{
 "cells": [
  {
   "cell_type": "markdown",
   "metadata": {},
   "source": [
    "# 문제\n",
    "복수개의 숫자를 입력받고, 짝수를 -1로 치환한 모든 수의 합을 출력하시오.\n",
    "* input() 함수를 이용해서 복수개의 숫자를 입력받는다.\n",
    "* 결과확인1\n",
    "    * 입력: 1 2 4 7\n",
    "    * 출력: 6\n",
    "* 결과확인2\n",
    "    * 입력: 1 2 4 9\n",
    "    * 출력: 8\n",
    "* 풀이방법\n",
    "    * 방법1: LC를 사용하시오\n",
    "    * 방법2: filter() + lambda 함수를 사용하시오\n",
    "    * 방법3: 자신만의 더 좋은 방법을 찾아보자"
   ]
  },
  {
   "cell_type": "code",
   "execution_count": 9,
   "metadata": {},
   "outputs": [
    {
     "name": "stdout",
     "output_type": "stream",
     "text": [
      "['1', '2', '4', '7']\n",
      "[1, 2, 4, 7]\n",
      "[1, -1, -1, 7]\n",
      "6\n"
     ]
    }
   ],
   "source": [
    "# 방법1: LC 사용\n",
    "lt1 = \"1 2 4 7\".split()\n",
    "print(lt1)\n",
    "lt2 = list(map(int, lt1)) # 원소들을 정수형으로 바꿔줌\n",
    "print(lt2)\n",
    "lt3 = [-1 if kk%2==0 else kk for kk in lt2] # 짝수면 -1로, 아니면 그대로\n",
    "print(lt3)\n",
    "print(sum(lt3)) # 리스트 안의 모든 원소 합"
   ]
  },
  {
   "cell_type": "code",
   "execution_count": 15,
   "metadata": {},
   "outputs": [
    {
     "name": "stdout",
     "output_type": "stream",
     "text": [
      "['1', '2', '4', '7']\n",
      "[1, 2, 4, 7]\n",
      "[-1, -1]\n",
      "[1, 7]\n",
      "6\n"
     ]
    }
   ],
   "source": [
    "# 방법2: filter()+lambda 함수 사용\n",
    "lt1 = \"1 2 4 7\".split()\n",
    "print(lt1)\n",
    "lt2 = list(map(int, lt1))\n",
    "print(lt2)\n",
    "even_lt = list(filter(lambda x: x%2==0, lt2))\n",
    "even_lt2 = list(map(lambda x: -1, even_lt))\n",
    "odd_lt = list(filter(lambda x: x%2!=0, lt2))\n",
    "print(even_lt2)\n",
    "print(odd_lt)\n",
    "result = sum(even_lt2) + sum(odd_lt)\n",
    "print(result)\n"
   ]
  },
  {
   "cell_type": "code",
   "execution_count": null,
   "metadata": {},
   "outputs": [],
   "source": []
  }
 ],
 "metadata": {
  "interpreter": {
   "hash": "71fc80c9af28b0421c6bdfbc3bfd5ed07af96b622e5cf926f40ac8162b843136"
  },
  "kernelspec": {
   "display_name": "Python 3.8.8 64-bit ('base': conda)",
   "language": "python",
   "name": "python3"
  },
  "language_info": {
   "codemirror_mode": {
    "name": "ipython",
    "version": 3
   },
   "file_extension": ".py",
   "mimetype": "text/x-python",
   "name": "python",
   "nbconvert_exporter": "python",
   "pygments_lexer": "ipython3",
   "version": "3.8.8"
  },
  "orig_nbformat": 4
 },
 "nbformat": 4,
 "nbformat_minor": 2
}
