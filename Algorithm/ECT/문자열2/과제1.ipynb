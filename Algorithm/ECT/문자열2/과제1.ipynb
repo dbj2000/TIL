{
 "cells": [
  {
   "cell_type": "markdown",
   "metadata": {},
   "source": [
    "# 문제\n",
    "실수 2개를 입력받고, 소수점 자리와 정수 자리를 구분하시오. 그리고, 정수부와 소수점 부분 각각의 합을 구하시오.\n",
    "* input() 함수로 입력\n",
    "* 정수부 실수부 분리\n",
    "* 결과 확인\n",
    "    * 입력: 3.14 6.28\n",
    "    * 출력: [9, 42]\n",
    "* complex() 함수를 활용하시오"
   ]
  },
  {
   "cell_type": "code",
   "execution_count": 1,
   "metadata": {},
   "outputs": [
    {
     "name": "stdout",
     "output_type": "stream",
     "text": [
      "['3.14', '6.28']\n",
      "['3+14j', '6+28j']\n",
      "[(3+14j), (6+28j)]\n",
      "[(3.0, 14.0), (6.0, 28.0)]\n",
      "[(3.0, 6.0), (14.0, 28.0)]\n",
      "[9.0, 42.0]\n",
      "[9, 42]\n"
     ]
    }
   ],
   "source": [
    "lt1 = \"3.14 6.28\".split()\n",
    "print(lt1)\n",
    "lt2 = list(kk.replace('.', '+')+'j' for kk in lt1)\n",
    "print(lt2)\n",
    "lt3 = list(map(complex, lt2))\n",
    "print(lt3)\n",
    "lt4 = list((kk.real, kk.imag) for kk in lt3)\n",
    "print(lt4)\n",
    "lt5 = list(zip(*lt4))\n",
    "print(lt5)\n",
    "lt6 = list(map(int,map(sum, lt5)))\n",
    "print(lt6)"
   ]
  },
  {
   "cell_type": "code",
   "execution_count": null,
   "metadata": {},
   "outputs": [],
   "source": []
  }
 ],
 "metadata": {
  "interpreter": {
   "hash": "71fc80c9af28b0421c6bdfbc3bfd5ed07af96b622e5cf926f40ac8162b843136"
  },
  "kernelspec": {
   "display_name": "Python 3.8.8 64-bit ('base': conda)",
   "language": "python",
   "name": "python3"
  },
  "language_info": {
   "codemirror_mode": {
    "name": "ipython",
    "version": 3
   },
   "file_extension": ".py",
   "mimetype": "text/x-python",
   "name": "python",
   "nbconvert_exporter": "python",
   "pygments_lexer": "ipython3",
   "version": "3.8.8"
  },
  "orig_nbformat": 4
 },
 "nbformat": 4,
 "nbformat_minor": 2
}
